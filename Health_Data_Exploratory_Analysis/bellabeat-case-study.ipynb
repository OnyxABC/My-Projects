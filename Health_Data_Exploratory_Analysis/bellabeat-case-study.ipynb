{
 "cells": [
  {
   "cell_type": "markdown",
   "id": "bda85c49",
   "metadata": {
    "papermill": {
     "duration": 0.011191,
     "end_time": "2023-01-24T16:17:46.107782",
     "exception": false,
     "start_time": "2023-01-24T16:17:46.096591",
     "status": "completed"
    },
    "tags": []
   },
   "source": [
    "# Bellabeat Case Study\n",
    "\n",
    "### Google Data Analytics Certificate Capstone: Exploratory Analysis of Smart Fitness Tracker Data\n",
    "\n",
    "  ---"
   ]
  },
  {
   "cell_type": "markdown",
   "id": "469686ea",
   "metadata": {
    "papermill": {
     "duration": 0.011275,
     "end_time": "2023-01-24T16:17:46.128742",
     "exception": false,
     "start_time": "2023-01-24T16:17:46.117467",
     "status": "completed"
    },
    "tags": []
   },
   "source": [
    "### Scenario\n",
    "You are a junior data analyst working on the marketing analyst team at Bellabeat, a high-tech manufacturer of health-focused\n",
    "products for women. Bellabeat is a successful small company, but they have the potential to become a larger player in the\n",
    "global smart device market. Urška Sršen, cofounder and Chief Creative Officer of Bellabeat, believes that analyzing smart\n",
    "device fitness data could help unlock new growth opportunities for the company. You have been asked to focus on one of\n",
    "Bellabeat’s products and analyze smart device data to gain insight into how consumers are using their smart devices. The\n",
    "insights you discover will then help guide marketing strategy for the company. You will present your analysis to the Bellabeat\n",
    "executive team along with your high-level recommendations for Bellabeat’s marketing strategy.\n",
    "\n",
    "Sršen, Bellabeat’s cofounder and Chief Creative Officer, knows that an analysis of Bellabeat’s available consumer data would \n",
    "reveal more opportunities for growth. She has asked the marketing analytics team to focus on a Bellabeat product and \n",
    "analyze smart device usage data in order to gain insight into how people are already using their smart devices. \n",
    "Then, using this information, she would like high-level recommendations for how these trends can inform Bellabeat marketing strategy.\n",
    "\n",
    "\n",
    "#### Stakeholders\n",
    "1. Primary\n",
    "\t- Urška Sršen: Bellabeat’s cofounder and Chief Creative Officer\n",
    "\t- Sando Mur: Mathematician and Bellabeat’s cofounder; key member of the Bellabeat executive team\n",
    "2. Secondary\n",
    "\t- Bellabeat marketing analytics team\n",
    "\n",
    "\n",
    "#### Bellabeat Products\n",
    "- **Bellabeat app**: The Bellabeat app provides users with health data related to their activity, sleep, stress,\n",
    "menstrual cycle, and mindfulness habits. This data can help users better understand their current habits and\n",
    "make healthy decisions. The Bellabeat app connects to their line of smart wellness products.  \n",
    "\n",
    "- **Leaf**: Bellabeat’s classic wellness tracker can be worn as a bracelet, necklace, or clip. The Leaf tracker connects\n",
    "to the Bellabeat app to track activity, sleep, and stress.  \n",
    "\n",
    "- **Time**: This wellness watch combines the timeless look of a classic timepiece with smart technology to track user\n",
    "activity, sleep, and stress. The Time watch connects to the Bellabeat app to provide you with insights into your\n",
    "daily wellness.  \n",
    "\n",
    "- **Spring**: This is a water bottle that tracks daily water intake using smart technology to ensure that you are\n",
    "appropriately hydrated throughout the day. The Spring bottle connects to the Bellabeat app to track your\n",
    "hydration levels.  \n",
    "\n",
    "- **Bellabeat membership**: Bellabeat also offers a subscription-based membership program for users.\n",
    "Membership gives users 24/7 access to fully personalized guidance on nutrition, activity, sleep, health and\n",
    "beauty, and mindfulness based on their lifestyle and goals.\n",
    "\n",
    "\n",
    "#### Deliverables\n",
    "I will produce a report with the following deliverables:  \n",
    "\n",
    "1. A clear summary of the business task \n",
    "2. A description of all data sources used \n",
    "3. Documentation of any cleaning or manipulation of data \n",
    "4. A summary of your analysis \n",
    "5. Supporting visualizations and key findings\n",
    "6. Your top high-level content recommendations based on your analysis\n",
    "\n",
    "\n",
    "### ASK\n",
    "\n",
    "#### Business Task\n",
    "1. Analyze smart device usage data in order to gain insight into how consumers use smart devices \n",
    "2. Apply insights obtained to improve future marketing strategies for a Bellabeat product\n",
    "\n",
    "#### Guiding questions\n",
    "1. What are some trends in smart device usage?\n",
    "2. How could these trends apply to Bellabeat customers?\n",
    "3. How could these trends help influence Bellabeat marketing strategy?\n",
    "4. What metrics will you use to measure the data to achieve the objective?\n",
    "5. Who are the stakeholders?\n",
    "6. Who is your audience for this analysis and how does this affect your analysis process and presentation?\n",
    "7. How will the insights obtained from this analysis help Bellabeat stakeholders improve their marketing strategy?\n",
    "\n",
    "\n",
    "\n",
    "### PREPARE\n",
    "\n",
    "#### Dataset\n",
    "FitBit Fitness Tracker Data (CC0: Public Domain, dataset made available through Mobius); A public data that explores smart device users’ daily habits.\n",
    "This data set contains personal fitness tracker from thirty (30) fitbit users. Thirty eligible Fitbit users consented to the submission of\n",
    "personal tracker data, including minute-level output for physical activity, heart rate, and sleep monitoring. It includes\n",
    "information about daily activity, steps, and heart rate that can be used to explore users’ habits. \n",
    "A third-party data service provider called Fitabase LLC (San Diego, California), aggregated the self-tracker data.  \n",
    "\n",
    "The data set is cited as:  \n",
    "Furberg, R., Brinton, J., Keating, M., & Ortiz, A. (2016).\n",
    "Crowd-sourced Fitbit datasets 03.12.2016-05.12.2016 [Data set].\n",
    "Zenodo. https://doi.org/10.5281/zenodo.53894\n",
    "\n",
    "\n",
    "#### Limitations of the Dataset\n",
    "\n",
    "1. The specific population sampled may not be generalizable to other populations. However, this population is familiar with the online environment and therefore may be more adept at performing tasks with technology, thus making feasibility of the protocol administration more likely to be successful.  \n",
    "2. Individuals who can afford and use Fitbit devices are more likely to be younger (between the ages of 18 and 34 years) and affluent, thus impacting generalizability.  \n",
    "3. The data was generated in 2016. This might limit reflections that would be useful in current time.  \n",
    "  \n"
   ]
  },
  {
   "cell_type": "markdown",
   "id": "31881cfe",
   "metadata": {
    "papermill": {
     "duration": 0.009626,
     "end_time": "2023-01-24T16:17:46.149365",
     "exception": false,
     "start_time": "2023-01-24T16:17:46.139739",
     "status": "completed"
    },
    "tags": []
   },
   "source": [
    "#### Setting Up Environment in R\n",
    "\n",
    "  \n",
    "RStudio will be used for data exploration, data cleaning, transformation, analysis and visualisation.  \n",
    "  \n",
    "    \n",
    "    \n",
    "*All the required R packages to be installed and loaded;*"
   ]
  },
  {
   "cell_type": "code",
   "execution_count": 1,
   "id": "bc13bd52",
   "metadata": {
    "execution": {
     "iopub.execute_input": "2023-01-24T16:17:46.171971Z",
     "iopub.status.busy": "2023-01-24T16:17:46.169668Z",
     "iopub.status.idle": "2023-01-24T16:19:06.356065Z",
     "shell.execute_reply": "2023-01-24T16:19:06.352987Z"
    },
    "papermill": {
     "duration": 80.202103,
     "end_time": "2023-01-24T16:19:06.361111",
     "exception": false,
     "start_time": "2023-01-24T16:17:46.159008",
     "status": "completed"
    },
    "tags": []
   },
   "outputs": [
    {
     "name": "stderr",
     "output_type": "stream",
     "text": [
      "Installing package into ‘/usr/local/lib/R/site-library’\n",
      "(as ‘lib’ is unspecified)\n",
      "\n",
      "Installing package into ‘/usr/local/lib/R/site-library’\n",
      "(as ‘lib’ is unspecified)\n",
      "\n",
      "Installing package into ‘/usr/local/lib/R/site-library’\n",
      "(as ‘lib’ is unspecified)\n",
      "\n",
      "Installing package into ‘/usr/local/lib/R/site-library’\n",
      "(as ‘lib’ is unspecified)\n",
      "\n",
      "Installing package into ‘/usr/local/lib/R/site-library’\n",
      "(as ‘lib’ is unspecified)\n",
      "\n",
      "── \u001b[1mAttaching packages\u001b[22m ─────────────────────────────────────── tidyverse 1.3.2 ──\n",
      "\u001b[32m✔\u001b[39m \u001b[34mggplot2\u001b[39m 3.4.0      \u001b[32m✔\u001b[39m \u001b[34mpurrr  \u001b[39m 1.0.1 \n",
      "\u001b[32m✔\u001b[39m \u001b[34mtibble \u001b[39m 3.1.8      \u001b[32m✔\u001b[39m \u001b[34mdplyr  \u001b[39m 1.0.10\n",
      "\u001b[32m✔\u001b[39m \u001b[34mtidyr  \u001b[39m 1.2.1      \u001b[32m✔\u001b[39m \u001b[34mstringr\u001b[39m 1.5.0 \n",
      "\u001b[32m✔\u001b[39m \u001b[34mreadr  \u001b[39m 2.1.3      \u001b[32m✔\u001b[39m \u001b[34mforcats\u001b[39m 0.5.2 \n",
      "── \u001b[1mConflicts\u001b[22m ────────────────────────────────────────── tidyverse_conflicts() ──\n",
      "\u001b[31m✖\u001b[39m \u001b[34mdplyr\u001b[39m::\u001b[32mfilter()\u001b[39m masks \u001b[34mstats\u001b[39m::filter()\n",
      "\u001b[31m✖\u001b[39m \u001b[34mdplyr\u001b[39m::\u001b[32mlag()\u001b[39m    masks \u001b[34mstats\u001b[39m::lag()\n",
      "here() starts at /kaggle/working\n",
      "\n",
      "\n",
      "Attaching package: ‘janitor’\n",
      "\n",
      "\n",
      "The following objects are masked from ‘package:stats’:\n",
      "\n",
      "    chisq.test, fisher.test\n",
      "\n",
      "\n",
      "Loading required package: timechange\n",
      "\n",
      "\n",
      "Attaching package: ‘lubridate’\n",
      "\n",
      "\n",
      "The following objects are masked from ‘package:base’:\n",
      "\n",
      "    date, intersect, setdiff, union\n",
      "\n",
      "\n",
      "\n",
      "Attaching package: ‘reshape2’\n",
      "\n",
      "\n",
      "The following object is masked from ‘package:tidyr’:\n",
      "\n",
      "    smiths\n",
      "\n",
      "\n"
     ]
    }
   ],
   "source": [
    "\n",
    "install.packages(\"tidyverse\")\n",
    "install.packages(\"here\")\n",
    "install.packages(\"skimr\")\n",
    "install.packages(\"janitor\")\n",
    "install.packages(\"reshape2\")\n",
    "\n",
    "library(\"tidyverse\")\n",
    "library(\"here\")\n",
    "library(\"skimr\")\n",
    "library(\"janitor\")\n",
    "library(\"lubridate\")\n",
    "library(\"reshape2\")\n"
   ]
  },
  {
   "cell_type": "markdown",
   "id": "cb478f81",
   "metadata": {
    "papermill": {
     "duration": 0.009196,
     "end_time": "2023-01-24T16:19:06.385833",
     "exception": false,
     "start_time": "2023-01-24T16:19:06.376637",
     "status": "completed"
    },
    "tags": []
   },
   "source": [
    "The datasets were downloaded and stored appropriately. \n",
    "\n",
    "For this analysis, the following datasets were imported and used;  \n",
    "\n",
    "\t● the 'dailyActivity_merged' dataset\n",
    "\t● the 'sleepDay_merged' dataset\n",
    "\t● the 'weightLogInfo_merged' dataset\n",
    "\n",
    "I have excluded datasets whose data are already present in the “dailyActivity_merged” table.\n",
    "\n",
    "##### Loading the datasets:\n"
   ]
  },
  {
   "cell_type": "code",
   "execution_count": 2,
   "id": "96a10802",
   "metadata": {
    "execution": {
     "iopub.execute_input": "2023-01-24T16:19:06.441975Z",
     "iopub.status.busy": "2023-01-24T16:19:06.406938Z",
     "iopub.status.idle": "2023-01-24T16:19:06.532372Z",
     "shell.execute_reply": "2023-01-24T16:19:06.530209Z"
    },
    "papermill": {
     "duration": 0.140793,
     "end_time": "2023-01-24T16:19:06.535830",
     "exception": false,
     "start_time": "2023-01-24T16:19:06.395037",
     "status": "completed"
    },
    "tags": []
   },
   "outputs": [],
   "source": [
    "setwd(\"/kaggle/input/fitbit/Fitabase Data 4.12.16-5.12.16\")\n",
    "\n",
    "dailyActivity_DF <-\n",
    "  read.csv(\"dailyActivity_merged.csv\")\n",
    "\n",
    "sleepDay_DF <-\n",
    "  read.csv(\"sleepDay_merged.csv\")\n",
    "\n",
    "weightLogInfo_DF <-\n",
    "  read.csv(\"weightLogInfo_merged.csv\")"
   ]
  },
  {
   "cell_type": "markdown",
   "id": "9c85e51a",
   "metadata": {
    "papermill": {
     "duration": 0.009542,
     "end_time": "2023-01-24T16:19:06.555016",
     "exception": false,
     "start_time": "2023-01-24T16:19:06.545474",
     "status": "completed"
    },
    "tags": []
   },
   "source": [
    "### PROCESS\n",
    "\n",
    "\n",
    "To preview and glance through the data, and Check for errors, missing values, consistent naming;  \n"
   ]
  },
  {
   "cell_type": "markdown",
   "id": "6090c3be",
   "metadata": {
    "papermill": {
     "duration": 0.009721,
     "end_time": "2023-01-24T16:19:06.574571",
     "exception": false,
     "start_time": "2023-01-24T16:19:06.564850",
     "status": "completed"
    },
    "tags": []
   },
   "source": [
    "##### Details Observed For Each Dataset\n",
    "\n",
    "\n"
   ]
  },
  {
   "cell_type": "markdown",
   "id": "f9901179",
   "metadata": {
    "papermill": {
     "duration": 0.009788,
     "end_time": "2023-01-24T16:19:06.593847",
     "exception": false,
     "start_time": "2023-01-24T16:19:06.584059",
     "status": "completed"
    },
    "tags": []
   },
   "source": [
    "###### ● dailyActivity_DF"
   ]
  },
  {
   "cell_type": "code",
   "execution_count": 3,
   "id": "35da1ba1",
   "metadata": {
    "execution": {
     "iopub.execute_input": "2023-01-24T16:19:06.617261Z",
     "iopub.status.busy": "2023-01-24T16:19:06.615375Z",
     "shell.execute_reply": "2023-01-24T16:19:07.212386Z"
    },
    "papermill": {
     "duration": 0.612023,
     "end_time": "2023-01-24T16:19:07.215884",
     "exception": false,
     "start_time": "2023-01-24T16:19:06.603861",
     "status": "completed"
    },
    "tags": []
   },
   "outputs": [
    {
     "data": {
      "text/html": [
       "<table class=\"dataframe\">\n",
       "<caption>A data.frame: 6 × 15</caption>\n",
       "<thead>\n",
       "\t<tr><th></th><th scope=col>Id</th><th scope=col>ActivityDate</th><th scope=col>TotalSteps</th><th scope=col>TotalDistance</th><th scope=col>TrackerDistance</th><th scope=col>LoggedActivitiesDistance</th><th scope=col>VeryActiveDistance</th><th scope=col>ModeratelyActiveDistance</th><th scope=col>LightActiveDistance</th><th scope=col>SedentaryActiveDistance</th><th scope=col>VeryActiveMinutes</th><th scope=col>FairlyActiveMinutes</th><th scope=col>LightlyActiveMinutes</th><th scope=col>SedentaryMinutes</th><th scope=col>Calories</th></tr>\n",
       "\t<tr><th></th><th scope=col>&lt;dbl&gt;</th><th scope=col>&lt;chr&gt;</th><th scope=col>&lt;int&gt;</th><th scope=col>&lt;dbl&gt;</th><th scope=col>&lt;dbl&gt;</th><th scope=col>&lt;dbl&gt;</th><th scope=col>&lt;dbl&gt;</th><th scope=col>&lt;dbl&gt;</th><th scope=col>&lt;dbl&gt;</th><th scope=col>&lt;dbl&gt;</th><th scope=col>&lt;int&gt;</th><th scope=col>&lt;int&gt;</th><th scope=col>&lt;int&gt;</th><th scope=col>&lt;int&gt;</th><th scope=col>&lt;int&gt;</th></tr>\n",
       "</thead>\n",
       "<tbody>\n",
       "\t<tr><th scope=row>1</th><td>1503960366</td><td>4/12/2016</td><td>13162</td><td>8.50</td><td>8.50</td><td>0</td><td>1.88</td><td>0.55</td><td>6.06</td><td>0</td><td>25</td><td>13</td><td>328</td><td> 728</td><td>1985</td></tr>\n",
       "\t<tr><th scope=row>2</th><td>1503960366</td><td>4/13/2016</td><td>10735</td><td>6.97</td><td>6.97</td><td>0</td><td>1.57</td><td>0.69</td><td>4.71</td><td>0</td><td>21</td><td>19</td><td>217</td><td> 776</td><td>1797</td></tr>\n",
       "\t<tr><th scope=row>3</th><td>1503960366</td><td>4/14/2016</td><td>10460</td><td>6.74</td><td>6.74</td><td>0</td><td>2.44</td><td>0.40</td><td>3.91</td><td>0</td><td>30</td><td>11</td><td>181</td><td>1218</td><td>1776</td></tr>\n",
       "\t<tr><th scope=row>4</th><td>1503960366</td><td>4/15/2016</td><td> 9762</td><td>6.28</td><td>6.28</td><td>0</td><td>2.14</td><td>1.26</td><td>2.83</td><td>0</td><td>29</td><td>34</td><td>209</td><td> 726</td><td>1745</td></tr>\n",
       "\t<tr><th scope=row>5</th><td>1503960366</td><td>4/16/2016</td><td>12669</td><td>8.16</td><td>8.16</td><td>0</td><td>2.71</td><td>0.41</td><td>5.04</td><td>0</td><td>36</td><td>10</td><td>221</td><td> 773</td><td>1863</td></tr>\n",
       "\t<tr><th scope=row>6</th><td>1503960366</td><td>4/17/2016</td><td> 9705</td><td>6.48</td><td>6.48</td><td>0</td><td>3.19</td><td>0.78</td><td>2.51</td><td>0</td><td>38</td><td>20</td><td>164</td><td> 539</td><td>1728</td></tr>\n",
       "</tbody>\n",
       "</table>\n"
      ],
      "text/latex": [
       "A data.frame: 6 × 15\n",
       "\\begin{tabular}{r|lllllllllllllll}\n",
       "  & Id & ActivityDate & TotalSteps & TotalDistance & TrackerDistance & LoggedActivitiesDistance & VeryActiveDistance & ModeratelyActiveDistance & LightActiveDistance & SedentaryActiveDistance & VeryActiveMinutes & FairlyActiveMinutes & LightlyActiveMinutes & SedentaryMinutes & Calories\\\\\n",
       "  & <dbl> & <chr> & <int> & <dbl> & <dbl> & <dbl> & <dbl> & <dbl> & <dbl> & <dbl> & <int> & <int> & <int> & <int> & <int>\\\\\n",
       "\\hline\n",
       "\t1 & 1503960366 & 4/12/2016 & 13162 & 8.50 & 8.50 & 0 & 1.88 & 0.55 & 6.06 & 0 & 25 & 13 & 328 &  728 & 1985\\\\\n",
       "\t2 & 1503960366 & 4/13/2016 & 10735 & 6.97 & 6.97 & 0 & 1.57 & 0.69 & 4.71 & 0 & 21 & 19 & 217 &  776 & 1797\\\\\n",
       "\t3 & 1503960366 & 4/14/2016 & 10460 & 6.74 & 6.74 & 0 & 2.44 & 0.40 & 3.91 & 0 & 30 & 11 & 181 & 1218 & 1776\\\\\n",
       "\t4 & 1503960366 & 4/15/2016 &  9762 & 6.28 & 6.28 & 0 & 2.14 & 1.26 & 2.83 & 0 & 29 & 34 & 209 &  726 & 1745\\\\\n",
       "\t5 & 1503960366 & 4/16/2016 & 12669 & 8.16 & 8.16 & 0 & 2.71 & 0.41 & 5.04 & 0 & 36 & 10 & 221 &  773 & 1863\\\\\n",
       "\t6 & 1503960366 & 4/17/2016 &  9705 & 6.48 & 6.48 & 0 & 3.19 & 0.78 & 2.51 & 0 & 38 & 20 & 164 &  539 & 1728\\\\\n",
       "\\end{tabular}\n"
      ],
      "text/markdown": [
       "\n",
       "A data.frame: 6 × 15\n",
       "\n",
       "| <!--/--> | Id &lt;dbl&gt; | ActivityDate &lt;chr&gt; | TotalSteps &lt;int&gt; | TotalDistance &lt;dbl&gt; | TrackerDistance &lt;dbl&gt; | LoggedActivitiesDistance &lt;dbl&gt; | VeryActiveDistance &lt;dbl&gt; | ModeratelyActiveDistance &lt;dbl&gt; | LightActiveDistance &lt;dbl&gt; | SedentaryActiveDistance &lt;dbl&gt; | VeryActiveMinutes &lt;int&gt; | FairlyActiveMinutes &lt;int&gt; | LightlyActiveMinutes &lt;int&gt; | SedentaryMinutes &lt;int&gt; | Calories &lt;int&gt; |\n",
       "|---|---|---|---|---|---|---|---|---|---|---|---|---|---|---|---|\n",
       "| 1 | 1503960366 | 4/12/2016 | 13162 | 8.50 | 8.50 | 0 | 1.88 | 0.55 | 6.06 | 0 | 25 | 13 | 328 |  728 | 1985 |\n",
       "| 2 | 1503960366 | 4/13/2016 | 10735 | 6.97 | 6.97 | 0 | 1.57 | 0.69 | 4.71 | 0 | 21 | 19 | 217 |  776 | 1797 |\n",
       "| 3 | 1503960366 | 4/14/2016 | 10460 | 6.74 | 6.74 | 0 | 2.44 | 0.40 | 3.91 | 0 | 30 | 11 | 181 | 1218 | 1776 |\n",
       "| 4 | 1503960366 | 4/15/2016 |  9762 | 6.28 | 6.28 | 0 | 2.14 | 1.26 | 2.83 | 0 | 29 | 34 | 209 |  726 | 1745 |\n",
       "| 5 | 1503960366 | 4/16/2016 | 12669 | 8.16 | 8.16 | 0 | 2.71 | 0.41 | 5.04 | 0 | 36 | 10 | 221 |  773 | 1863 |\n",
       "| 6 | 1503960366 | 4/17/2016 |  9705 | 6.48 | 6.48 | 0 | 3.19 | 0.78 | 2.51 | 0 | 38 | 20 | 164 |  539 | 1728 |\n",
       "\n"
      ],
      "text/plain": [
       "  Id         ActivityDate TotalSteps TotalDistance TrackerDistance\n",
       "1 1503960366 4/12/2016    13162      8.50          8.50           \n",
       "2 1503960366 4/13/2016    10735      6.97          6.97           \n",
       "3 1503960366 4/14/2016    10460      6.74          6.74           \n",
       "4 1503960366 4/15/2016     9762      6.28          6.28           \n",
       "5 1503960366 4/16/2016    12669      8.16          8.16           \n",
       "6 1503960366 4/17/2016     9705      6.48          6.48           \n",
       "  LoggedActivitiesDistance VeryActiveDistance ModeratelyActiveDistance\n",
       "1 0                        1.88               0.55                    \n",
       "2 0                        1.57               0.69                    \n",
       "3 0                        2.44               0.40                    \n",
       "4 0                        2.14               1.26                    \n",
       "5 0                        2.71               0.41                    \n",
       "6 0                        3.19               0.78                    \n",
       "  LightActiveDistance SedentaryActiveDistance VeryActiveMinutes\n",
       "1 6.06                0                       25               \n",
       "2 4.71                0                       21               \n",
       "3 3.91                0                       30               \n",
       "4 2.83                0                       29               \n",
       "5 5.04                0                       36               \n",
       "6 2.51                0                       38               \n",
       "  FairlyActiveMinutes LightlyActiveMinutes SedentaryMinutes Calories\n",
       "1 13                  328                   728             1985    \n",
       "2 19                  217                   776             1797    \n",
       "3 11                  181                  1218             1776    \n",
       "4 34                  209                   726             1745    \n",
       "5 10                  221                   773             1863    \n",
       "6 20                  164                   539             1728    "
      ]
     },
     "metadata": {},
     "output_type": "display_data"
    }
   ],
   "source": [
    "head(dailyActivity_DF)\n",
    "skim_without_charts(dailyActivity_DF)\n",
    "sum(duplicated(dailyActivity_DF))\n",
    "n_distinct(dailyActivity_DF$Id)\n",
    "sapply(dailyActivity_DF, function(x) n_distinct(x))"
   ]
  },
  {
   "cell_type": "markdown",
   "id": "949226be",
   "metadata": {
    "papermill": {
     "duration": null,
     "end_time": null,
     "exception": null,
     "start_time": null,
     "status": "completed"
    },
    "tags": []
   },
   "source": [
    "\n",
    "This dataframe has a long form with 940 rows and 15 columns.\n",
    "Consistent and meaningful variable names were observed.   \n",
    "There are no missing values and no duplicate entries in this dataframe.  \n",
    "The \"ActivityDate\" column does not have the right datatype, to be corrected to the DateTime datatype.\n",
    "This dataframe has records of 33 different\n",
    "participants and data was collected over a maximum of 31 days. "
   ]
  },
  {
   "cell_type": "markdown",
   "id": "6285d93a",
   "metadata": {
    "papermill": {
     "duration": null,
     "end_time": null,
     "exception": null,
     "start_time": null,
     "status": "completed"
    },
    "tags": []
   },
   "source": [
    "###### ● sleepDay_DF"
   ]
  },
  {
   "cell_type": "code",
   "execution_count": null,
   "id": "207b9cff",
   "metadata": {
    "execution": {
     "iopub.execute_input": "2023-01-24T15:43:32.981502Z",
     "iopub.status.busy": "2023-01-24T15:43:32.980464Z",
     "iopub.status.idle": "2023-01-24T15:43:33.207133Z"
    },
    "papermill": {
     "duration": null,
     "end_time": null,
     "exception": null,
     "start_time": null,
     "status": "completed"
    },
    "tags": []
   },
   "outputs": [],
   "source": [
    "head(sleepDay_DF)\n",
    "skim_without_charts(sleepDay_DF)\n",
    "sum(duplicated(sleepDay_DF))\n",
    "n_distinct(sleepDay_DF$Id)\n",
    "sapply(sleepDay_DF, function(x) n_distinct(x))"
   ]
  },
  {
   "cell_type": "markdown",
   "id": "9f5be6f1",
   "metadata": {
    "papermill": {
     "duration": null,
     "end_time": null,
     "exception": null,
     "start_time": null,
     "status": "completed"
    },
    "tags": []
   },
   "source": [
    "This dataframe has a long form with 413 rows and 5 columns.\n",
    "Consistent and meaningful variable names were observed. \n",
    "There are no missing values, but 3 duplicate entries were observed (these duplicates will be removed). \n",
    "Here, 24 participants data were recorded and collected over a maximum of 31 days.\n",
    "The \"SleepDay\" column does not have the right datatype, to be corrected to the DateTime datatype.  \n"
   ]
  },
  {
   "cell_type": "markdown",
   "id": "2cb02ee8",
   "metadata": {
    "papermill": {
     "duration": null,
     "end_time": null,
     "exception": null,
     "start_time": null,
     "status": "completed"
    },
    "tags": []
   },
   "source": [
    "###### ● weightLogInfo_DF\n"
   ]
  },
  {
   "cell_type": "code",
   "execution_count": null,
   "id": "8de4d1e8",
   "metadata": {
    "execution": {
     "iopub.execute_input": "2023-01-24T15:43:33.209974Z",
     "iopub.status.busy": "2023-01-24T15:43:33.208939Z",
     "iopub.status.idle": "2023-01-24T15:43:33.447914Z"
    },
    "papermill": {
     "duration": null,
     "end_time": null,
     "exception": null,
     "start_time": null,
     "status": "completed"
    },
    "tags": []
   },
   "outputs": [],
   "source": [
    "head(weightLogInfo_DF)\n",
    "skim_without_charts(weightLogInfo_DF)\n",
    "sum(duplicated(weightLogInfo_DF))\n",
    "n_distinct(weightLogInfo_DF$Id)\n",
    "sapply(weightLogInfo_DF, function(x) n_distinct(x))\n"
   ]
  },
  {
   "cell_type": "markdown",
   "id": "f608323e",
   "metadata": {
    "papermill": {
     "duration": null,
     "end_time": null,
     "exception": null,
     "start_time": null,
     "status": "completed"
    },
    "tags": []
   },
   "source": [
    "This dataframe has a long form with 67 rows and 8 columns. Consistent and meaningful variable names were observed.  \n",
    "The \"Fat\" column has 65 missing values out of 67 rows (A just 2.99% complete rate, this column will be dropped).  \n",
    "No duplicate entry was observed.  \n",
    "The Date column does not have the right datatype, to be corrected to the DateTime datatype.  \n",
    "Only 8 participants weight data were recorded.  \n",
    "  \n",
    "  \n",
    "\n",
    "--------------------------------------------------------------------------------\n",
    "\n"
   ]
  },
  {
   "cell_type": "markdown",
   "id": "14473854",
   "metadata": {
    "papermill": {
     "duration": null,
     "end_time": null,
     "exception": null,
     "start_time": null,
     "status": "completed"
    },
    "tags": []
   },
   "source": [
    "#### To Transform the Data;  \n",
    "  \n",
    "  "
   ]
  },
  {
   "cell_type": "markdown",
   "id": "20f98f91",
   "metadata": {
    "papermill": {
     "duration": null,
     "end_time": null,
     "exception": null,
     "start_time": null,
     "status": "completed"
    },
    "tags": []
   },
   "source": [
    "###### The sleepDay_DF\n",
    "\n",
    "- I made a copy (sleepData) and removed duplicates. \n",
    "- I separated the sleepDay column into Date, SleepTime and DayStatus individual columns and then dropped the SleepTime and DayStatus columns.\n",
    "- I changed the \"Id\" column datatype to character and the \"SleepDate\" column datatype to Date. \n",
    "\n"
   ]
  },
  {
   "cell_type": "code",
   "execution_count": null,
   "id": "d772e6ce",
   "metadata": {
    "execution": {
     "iopub.execute_input": "2023-01-24T15:43:33.450757Z",
     "iopub.status.busy": "2023-01-24T15:43:33.449780Z",
     "iopub.status.idle": "2023-01-24T15:43:33.475186Z"
    },
    "papermill": {
     "duration": null,
     "end_time": null,
     "exception": null,
     "start_time": null,
     "status": "completed"
    },
    "tags": []
   },
   "outputs": [],
   "source": [
    "# remove duplicates \n",
    "sleepData <- sleepDay_DF[!duplicated(sleepDay_DF),]\n",
    "\n",
    "# split the SleepDay column to SleepDate and SleepTime columns\n",
    "sleepData <-\n",
    "  sleepData %>%\n",
    "  separate(SleepDay, into = c(\"Date\", \"SleepTime\", \"DayStatus\"), sep = \" \") %>%\n",
    "  subset(select = -c(SleepTime,DayStatus))\n",
    "\n",
    "# Change datatype\n",
    "class(sleepData$Id) = \"character\"\n",
    "sleepData$Date <- mdy(sleepData$Date)\n"
   ]
  },
  {
   "cell_type": "markdown",
   "id": "bfc2a24b",
   "metadata": {
    "papermill": {
     "duration": null,
     "end_time": null,
     "exception": null,
     "start_time": null,
     "status": "completed"
    },
    "tags": []
   },
   "source": [
    "###### The weightLogInfo_DF\n",
    "\n",
    "- I made a copy (weightData).  \n",
    "- I dropped/deleted the \"Fat\" column\n",
    "- I separated the Date column into Date, Time and DayStatus individual columns and then dropped the Time and DayStatus columns.  \n",
    "- I changed the \"Id\" column datatype to character and the \"Date\" column datatype to Date.\n",
    "- I created a new column \"WeightStatus\" showing the weight groups based on BMI values ranging from Underweight, Normal Weight, Overweight and Obese.  \n"
   ]
  },
  {
   "cell_type": "code",
   "execution_count": null,
   "id": "ecfb92e2",
   "metadata": {
    "execution": {
     "iopub.execute_input": "2023-01-24T15:43:33.477992Z",
     "iopub.status.busy": "2023-01-24T15:43:33.477001Z",
     "iopub.status.idle": "2023-01-24T15:43:33.505587Z"
    },
    "papermill": {
     "duration": null,
     "end_time": null,
     "exception": null,
     "start_time": null,
     "status": "completed"
    },
    "tags": []
   },
   "outputs": [],
   "source": [
    "weightData <-\n",
    "  weightLogInfo_DF %>%\n",
    "  subset(select = -Fat) %>%\n",
    "  separate(Date, into = c(\"Date\", \"Time\", \"DayStatus\"), sep = \" \") %>%\n",
    "  subset(select = -c(Time,DayStatus))%>%\n",
    "  mutate(WeightStatus = case_when(BMI > 29.9 ~ 'Obese', \n",
    "                                  BMI > 24.9 ~ 'Overweight',\n",
    "                                  BMI < 18.5 ~ 'Underweight',\n",
    "                                  TRUE ~ 'Normal Weight'))\n",
    "\n",
    "# Change datatype\n",
    "class(weightData$Id) = \"character\"\n",
    "weightData$Date <- mdy(weightData$Date)\n"
   ]
  },
  {
   "cell_type": "markdown",
   "id": "94cedf8c",
   "metadata": {
    "papermill": {
     "duration": null,
     "end_time": null,
     "exception": null,
     "start_time": null,
     "status": "completed"
    },
    "tags": []
   },
   "source": [
    "###### The dailyActivity_DF\n",
    "\n",
    "- I made a copy (activityData). \n",
    "- I changed the \"Id\" column datatype to character and the \"ActivityDate\" column datatype to Date.  \n",
    "- I renamed the \"ActivityDate\" column to \"Date\"\n",
    "- I created new columns;   \"Day\" (showing the day of the week),\n",
    "  \"TotalActiveMinutes\" (a sum of the columns; \"VeryActiveMinutes\", \"FairlyActiveMinues\", & \"LightlyActiveMinutes\").\n",
    "- I dropped rows/observations having zero value for \"Total Steps\" and \"Total Distance\".\n",
    "- I dropped the entire \"LoggedActiveDistance\" column since just about 4% of observations have values other than zero.  \n",
    "\n"
   ]
  },
  {
   "cell_type": "code",
   "execution_count": null,
   "id": "239a128e",
   "metadata": {
    "execution": {
     "iopub.execute_input": "2023-01-24T15:43:33.509443Z",
     "iopub.status.busy": "2023-01-24T15:43:33.507967Z",
     "iopub.status.idle": "2023-01-24T15:43:33.544791Z"
    },
    "papermill": {
     "duration": null,
     "end_time": null,
     "exception": null,
     "start_time": null,
     "status": "completed"
    },
    "tags": []
   },
   "outputs": [],
   "source": [
    "activityData <- dailyActivity_DF %>% \n",
    "  subset(!dailyActivity_DF$TotalSteps == 0) %>%\n",
    "  subset(!dailyActivity_DF$TotalDistance == 0) %>%\n",
    "  subset(select = -c(LoggedActivitiesDistance))\n",
    "\n",
    "# Change datatype\n",
    "class(activityData$Id) = \"character\"\n",
    "activityData$ActivityDate <- mdy(activityData$ActivityDate)\n",
    "\n",
    "\n",
    "activityData <-\n",
    "  activityData %>%\n",
    "  rename(\"Date\" = ActivityDate)\n",
    "\n",
    "#Creating new columns\n",
    "activityData <- \n",
    "  activityData %>%\n",
    "  mutate(Day = weekdays(Date)) %>%\n",
    "  mutate(TotalActiveMinutes = (activityData$VeryActiveMinutes + \n",
    "                                 activityData$FairlyActiveMinutes + \n",
    "                                 activityData$LightlyActiveMinutes)) %>%\n",
    "  drop_na()\n",
    "\n"
   ]
  },
  {
   "cell_type": "markdown",
   "id": "93b6a115",
   "metadata": {
    "papermill": {
     "duration": null,
     "end_time": null,
     "exception": null,
     "start_time": null,
     "status": "completed"
    },
    "tags": []
   },
   "source": [
    "### ANALYSE"
   ]
  },
  {
   "cell_type": "markdown",
   "id": "149be2b7",
   "metadata": {
    "papermill": {
     "duration": null,
     "end_time": null,
     "exception": null,
     "start_time": null,
     "status": "completed"
    },
    "tags": []
   },
   "source": [
    "##### Quick Summary Statistics of The data:\n"
   ]
  },
  {
   "cell_type": "code",
   "execution_count": null,
   "id": "c99eafe9",
   "metadata": {
    "execution": {
     "iopub.execute_input": "2023-01-24T15:43:33.547647Z",
     "iopub.status.busy": "2023-01-24T15:43:33.546615Z",
     "iopub.status.idle": "2023-01-24T15:43:33.598827Z"
    },
    "papermill": {
     "duration": null,
     "end_time": null,
     "exception": null,
     "start_time": null,
     "status": "completed"
    },
    "tags": []
   },
   "outputs": [],
   "source": [
    "activityData %>%  \n",
    "  select(TotalSteps,\n",
    "         TotalDistance,\n",
    "         VeryActiveDistance,\n",
    "         ModeratelyActiveDistance,\n",
    "         LightActiveDistance,\n",
    "         SedentaryActiveDistance,\n",
    "         VeryActiveMinutes,\n",
    "         FairlyActiveMinutes,\n",
    "         LightlyActiveMinutes,\n",
    "         SedentaryMinutes,\n",
    "         Calories) %>%\n",
    "  summary()\n",
    "\n",
    "\n",
    "sleepData %>%  \n",
    "  select(TotalSleepRecords,\n",
    "         TotalMinutesAsleep,\n",
    "         TotalTimeInBed) %>%\n",
    "  summary()\n",
    "\n",
    "\n",
    "weightData %>%  \n",
    "  select(WeightKg,\n",
    "         WeightPounds,\n",
    "         BMI) %>%\n",
    "  summary()\n",
    "\n"
   ]
  },
  {
   "cell_type": "markdown",
   "id": "20a9bcf8",
   "metadata": {
    "papermill": {
     "duration": null,
     "end_time": null,
     "exception": null,
     "start_time": null,
     "status": "completed"
    },
    "tags": []
   },
   "source": [
    "##### Aggregated Values\n",
    "\n",
    "I aggregated the dataset to obtain average values for each participant."
   ]
  },
  {
   "cell_type": "code",
   "execution_count": null,
   "id": "f52422da",
   "metadata": {
    "execution": {
     "iopub.execute_input": "2023-01-24T15:43:33.602176Z",
     "iopub.status.busy": "2023-01-24T15:43:33.601026Z",
     "iopub.status.idle": "2023-01-24T15:43:33.674407Z"
    },
    "papermill": {
     "duration": null,
     "end_time": null,
     "exception": null,
     "start_time": null,
     "status": "completed"
    },
    "tags": []
   },
   "outputs": [],
   "source": [
    "\n",
    "weightAggregated <-\n",
    "  weightData %>%\n",
    "  group_by(Id) %>%\n",
    "  summarise(BodyWeightKg = mean(WeightKg),\n",
    "            BMIv = mean(BMI)) %>%\n",
    "  mutate(WeightStatus = case_when(BMIv > 29.9 ~ 'Obese', \n",
    "                                  BMIv> 24.9 ~ 'Overweight',\n",
    "                                  BMIv < 18.5 ~ 'Underweight',\n",
    "                                  TRUE ~ 'Normal Weight'))\n",
    "\n",
    "\n",
    "sleepAggregated <-\n",
    "  sleepData %>%\n",
    "  group_by(Id) %>%\n",
    "  summarise(SleepRecord = sum(TotalSleepRecords),\n",
    "            TotalHoursAsleep = (sum(TotalMinutesAsleep)/60),\n",
    "            AveHoursAsleep = (mean(TotalMinutesAsleep)/60),\n",
    "            AveTimeInBed = (mean(TotalTimeInBed)/60)) %>%\n",
    "  mutate(NatureofSleep = case_when(AveHoursAsleep < 7 ~ 'Poor Sleep',\n",
    "                                   TRUE ~ 'Good Sleep'))\n",
    "\n",
    "\n",
    "activityAggregated <-\n",
    "  activityData %>%\n",
    "  group_by(Id) %>%\n",
    "  summarise(AverageSteps = mean(TotalSteps),\n",
    "            AverageDistance = mean(TotalDistance),\n",
    "            VeryActiveHours = (mean(VeryActiveMinutes)/60),\n",
    "            FairlyActiveHours = (mean(FairlyActiveMinutes)/60),\n",
    "            LightlyActiveHours = (mean(LightlyActiveMinutes)/60),\n",
    "            AveSedentaryHours = (mean(SedentaryMinutes)/60),\n",
    "            TotalActiveHours = (VeryActiveHours + FairlyActiveHours + LightlyActiveHours),\n",
    "            AveCaloriesSpent = mean(Calories))\n",
    "\n",
    "\n",
    "aggregatedData <-\n",
    "  list(sleepAggregated, weightAggregated, activityAggregated) %>%\n",
    "  reduce(full_join, by=\"Id\")\n",
    "\n",
    "head(aggregatedData)\n",
    "\n"
   ]
  },
  {
   "cell_type": "markdown",
   "id": "3412e90f",
   "metadata": {
    "papermill": {
     "duration": null,
     "end_time": null,
     "exception": null,
     "start_time": null,
     "status": "completed"
    },
    "tags": []
   },
   "source": [
    " \n",
    "  \n",
    "   \n",
    "- The average number of daily steps was 8375.\n",
    "This is within the 6000–8000 recommended daily steps. About 70% of participants reached the recommended quota.\n",
    "\n",
    "- The average very active minutes was approximately 24 minutes.\n",
    "This falls short of the recommended 30 minutes of daily moderate-intensity aerobic activity.\n",
    "About 25% of participants reached this quota.\n",
    "\n",
    "- The average sedentary minutes was 953.1 min i.e. about 16 hours.\n",
    "\n",
    "- The average time spent asleep was 419.2 minutes i.e. about 7 hours.\n",
    "This is within the 7 to 9 hours recommended good sleep duration for adults.\n",
    "\n",
    "About 48% of participants whose sleep records were captured, have good sleep duration.\n",
    " \n",
    "\n"
   ]
  },
  {
   "cell_type": "markdown",
   "id": "f5557361",
   "metadata": {
    "papermill": {
     "duration": null,
     "end_time": null,
     "exception": null,
     "start_time": null,
     "status": "completed"
    },
    "tags": []
   },
   "source": [
    "##### Checking for Relationship between Day of the Week and participants activities:\n"
   ]
  },
  {
   "cell_type": "code",
   "execution_count": null,
   "id": "d6d0be78",
   "metadata": {
    "execution": {
     "iopub.execute_input": "2023-01-24T15:43:33.677181Z",
     "iopub.status.busy": "2023-01-24T15:43:33.676187Z",
     "iopub.status.idle": "2023-01-24T15:43:34.247104Z"
    },
    "papermill": {
     "duration": null,
     "end_time": null,
     "exception": null,
     "start_time": null,
     "status": "completed"
    },
    "tags": []
   },
   "outputs": [],
   "source": [
    "setwd('/kaggle/working')\n",
    "\n",
    "ggplot(data = activityData) +\n",
    "  aes(x = (Day), y = TotalSteps) +\n",
    "  geom_col(fill =  'blue') +\n",
    "  labs(x = 'Day of week', y = 'Total Steps', title = 'Total steps per Day')\n",
    "\n",
    "\n",
    "\n",
    "ggplot(data = activityData) +\n",
    "  aes(x = (Day), y = TotalActiveMinutes) +\n",
    "  geom_col(fill =  'blue') +\n",
    "  labs(x = 'Day of week',\n",
    "       y = 'Time Active (Minutes)',\n",
    "       title = 'Total Active Minutes per Day')\n",
    "\n",
    "\n",
    "ggplot(data = activityData) +\n",
    "  aes(x = (Day), y = Calories) +\n",
    "  geom_col(fill =  'blue') +\n",
    "  labs(x = 'Day of week',\n",
    "       y = 'Calories Expended',\n",
    "       title = 'Daily Calories Expended')\n"
   ]
  },
  {
   "cell_type": "markdown",
   "id": "c4e6e228",
   "metadata": {
    "papermill": {
     "duration": null,
     "end_time": null,
     "exception": null,
     "start_time": null,
     "status": "completed"
    },
    "tags": []
   },
   "source": [
    "\n",
    "  \n",
    "From the plots, the most/highest records were observed on these days (in descending order);\n",
    "\n",
    "Tuesdays, Wednesdays, Thursdays and Saturdays. \n",
    "\n",
    "While Sundays had the least records.\n"
   ]
  },
  {
   "cell_type": "markdown",
   "id": "86cb6bf9",
   "metadata": {
    "papermill": {
     "duration": null,
     "end_time": null,
     "exception": null,
     "start_time": null,
     "status": "completed"
    },
    "tags": []
   },
   "source": [
    "##### Checking relationship between Calories expended and steps taken (TotalSteps), time active (TotalActiveMinutes) and Time in Sedentary State (SedentaryMinutes).\n",
    "\n"
   ]
  },
  {
   "cell_type": "code",
   "execution_count": null,
   "id": "2d8315f5",
   "metadata": {
    "execution": {
     "iopub.execute_input": "2023-01-24T15:43:34.249877Z",
     "iopub.status.busy": "2023-01-24T15:43:34.248871Z",
     "iopub.status.idle": "2023-01-24T15:43:35.059078Z"
    },
    "papermill": {
     "duration": null,
     "end_time": null,
     "exception": null,
     "start_time": null,
     "status": "completed"
    },
    "tags": []
   },
   "outputs": [],
   "source": [
    "# Showing relationships for Calorie expenditure\n",
    "\n",
    "ggplot(data = activityData) +\n",
    "  aes(x= TotalActiveMinutes, y = Calories) +\n",
    "  geom_point(color = 'orange') +\n",
    "  geom_smooth() +\n",
    "  labs(x = 'Time Active (minutes)',\n",
    "       y = 'Calories Expended',\n",
    "       title = 'Calories Expended vs Time Active')\n",
    "\n",
    "\n",
    "ggplot(data = activityData) +\n",
    "  aes(x= TotalSteps, y = Calories) +\n",
    "  geom_point(color = 'orange') +\n",
    "  geom_smooth() +\n",
    "  labs(x = 'Total Steps',\n",
    "       y = 'Calories Expended',\n",
    "       title = 'Calories Expended vs Total Steps')\n",
    "\n",
    "\n",
    "ggplot(data = activityData) +\n",
    "  aes(x= SedentaryMinutes, y = Calories) +\n",
    "  geom_point(color = 'orange') +\n",
    "  geom_smooth() +\n",
    "  labs(x = 'Time Sedentary (minutes)',\n",
    "       y = 'Calories Expended',\n",
    "       title = 'Calories Expended vs Time Sedentary (minutes)')\n",
    "\n"
   ]
  },
  {
   "cell_type": "markdown",
   "id": "a75afb97",
   "metadata": {
    "papermill": {
     "duration": null,
     "end_time": null,
     "exception": null,
     "start_time": null,
     "status": "completed"
    },
    "tags": []
   },
   "source": [
    "\n",
    "  \n",
    "  \n",
    "In the plots of Calories against Time active and Steps taken, the trendline tends upwards.\n",
    "This upward trend observed indicates a positive relationship between calorie expenditure and physical activity. \n",
    "\n",
    "Whereas a downward progression of the trendline indicating a negative relationship, was observed for the plot against time in sedentary state.\n",
    "Showing that the more sedentary the participant tends to be, the lesser amount of calories that will be expended.\n",
    "\n"
   ]
  },
  {
   "cell_type": "markdown",
   "id": "c924182a",
   "metadata": {
    "papermill": {
     "duration": null,
     "end_time": null,
     "exception": null,
     "start_time": null,
     "status": "completed"
    },
    "tags": []
   },
   "source": [
    "##### Showing the segregation of participants activities:\n",
    "\n"
   ]
  },
  {
   "cell_type": "code",
   "execution_count": null,
   "id": "d0395270",
   "metadata": {
    "execution": {
     "iopub.execute_input": "2023-01-24T15:43:35.061914Z",
     "iopub.status.busy": "2023-01-24T15:43:35.060887Z",
     "iopub.status.idle": "2023-01-24T15:43:35.269830Z"
    },
    "papermill": {
     "duration": null,
     "end_time": null,
     "exception": null,
     "start_time": null,
     "status": "completed"
    },
    "tags": []
   },
   "outputs": [],
   "source": [
    "\n",
    "\n",
    "# analysing the participants' activities per time\n",
    "\n",
    "VeryActiveMins <- sum(activityData$VeryActiveMinutes)\n",
    "FairlyActiveMins <- sum(activityData$FairlyActiveMinutes)\n",
    "LightlyActiveMins <- sum(activityData$LightlyActiveMinutes)\n",
    "SedentaryMins <- sum(activityData$SedentaryMinutes)\n",
    "total <- (VeryActiveMins + FairlyActiveMins + LightlyActiveMins + SedentaryMins)\n",
    "\n",
    "VeryActive <- round((VeryActiveMins/total) * 100,0)\n",
    "FairlyActive <- round((FairlyActiveMins / total)* 100,0)\n",
    "LightlyActive <- round((LightlyActiveMins / total)* 100,0)\n",
    "Sedentary <- round((SedentaryMins / total)* 100,0)\n",
    "\n",
    "DF <- \n",
    "  data.frame(Activity=c(\"Very Active\", \"Fairly\", \"Lightly\", \"Sedentary\" ),\n",
    "             Time = c(VeryActiveMins, FairlyActiveMins, LightlyActiveMins, SedentaryMins)\n",
    ")\n",
    "\n",
    "ggplot(data = DF) +\n",
    "  geom_col() + \n",
    "  aes(x= (Time)/60, y= Activity) +\n",
    "  labs(x = 'Time (Hours)',\n",
    "       y = 'Activity Type',\n",
    "       title = 'Time Spent per Activity Type')\n"
   ]
  },
  {
   "cell_type": "markdown",
   "id": "defa5c1b",
   "metadata": {
    "papermill": {
     "duration": null,
     "end_time": null,
     "exception": null,
     "start_time": null,
     "status": "completed"
    },
    "tags": []
   },
   "source": [
    "  \n",
    "The plot showed that the participants spent about 79% of their time (i.e. approximately 12645 hours) in sedentary states.\n",
    "But spent about 20% in active states. \n",
    "\n"
   ]
  },
  {
   "cell_type": "markdown",
   "id": "a5248ca4",
   "metadata": {
    "papermill": {
     "duration": null,
     "end_time": null,
     "exception": null,
     "start_time": null,
     "status": "completed"
    },
    "tags": []
   },
   "source": [
    "##### Analysing the sleep patterns of participants, and the sleep-time distribution\n"
   ]
  },
  {
   "cell_type": "code",
   "execution_count": null,
   "id": "db4f5646",
   "metadata": {
    "execution": {
     "iopub.execute_input": "2023-01-24T15:43:35.272683Z",
     "iopub.status.busy": "2023-01-24T15:43:35.271666Z",
     "iopub.status.idle": "2023-01-24T15:43:35.648926Z"
    },
    "papermill": {
     "duration": null,
     "end_time": null,
     "exception": null,
     "start_time": null,
     "status": "completed"
    },
    "tags": []
   },
   "outputs": [],
   "source": [
    "\n",
    "ggplot(data = sleepData) +\n",
    "  geom_boxplot() +\n",
    "  aes(y= TotalMinutesAsleep/60) +\n",
    "  labs(y = 'Time Asleep (Hours)',\n",
    "       title = 'Sleep Time Plot')\n",
    "\n",
    "\n",
    "ggplot(data = sleepAggregated) +\n",
    "  geom_bar() +\n",
    "  aes(y= NatureofSleep) +\n",
    "  labs(y = 'Nature of Sleep',\n",
    "       x= 'Number of Participants',\n",
    "       title = 'Nature of Sleep Plot')\n"
   ]
  },
  {
   "cell_type": "markdown",
   "id": "8834e633",
   "metadata": {
    "papermill": {
     "duration": null,
     "end_time": null,
     "exception": null,
     "start_time": null,
     "status": "completed"
    },
    "tags": []
   },
   "source": [
    "  \n",
    "  \n",
    "These show that 50th percentile of the participants experienced about 432 minutes (7.2 hours) of sleep.\n",
    "\n",
    "About 13 participants overall experienced less than 7 hours of sleep.\n",
    "\n",
    "And 11 participants overall experienced greater than or equal to 7 hours of sleep.  \n",
    "\n"
   ]
  },
  {
   "cell_type": "markdown",
   "id": "68be8cbf",
   "metadata": {
    "papermill": {
     "duration": null,
     "end_time": null,
     "exception": null,
     "start_time": null,
     "status": "completed"
    },
    "tags": []
   },
   "source": [
    "##### Analysing the weight distribution of participants\n"
   ]
  },
  {
   "cell_type": "code",
   "execution_count": null,
   "id": "b8808c66",
   "metadata": {
    "execution": {
     "iopub.execute_input": "2023-01-24T15:43:35.651734Z",
     "iopub.status.busy": "2023-01-24T15:43:35.650748Z",
     "iopub.status.idle": "2023-01-24T15:43:36.611728Z"
    },
    "papermill": {
     "duration": null,
     "end_time": null,
     "exception": null,
     "start_time": null,
     "status": "completed"
    },
    "tags": []
   },
   "outputs": [],
   "source": [
    "\n",
    "ggplot(data = weightData) +\n",
    "  geom_boxplot() +\n",
    "  aes(y= WeightKg) +\n",
    "  labs(y = 'Weight (Kg)',\n",
    "       title = 'Weight Plot')\n",
    "\n",
    "\n",
    "\n",
    "ggplot(data = weightData) +\n",
    "  geom_histogram() +\n",
    "  aes(x= WeightKg) +\n",
    "  labs(x = 'Weight (Kg)',\n",
    "       y= 'Number of Participants',\n",
    "       title = 'Weight Plot')\n",
    "\n",
    "\n",
    "ggplot(data = weightData) +\n",
    "  geom_bar() +\n",
    "  aes(x= WeightStatus) +\n",
    "  labs(x = 'Weight Status',\n",
    "       y= 'Number of Participants',\n",
    "       title = 'Weight Distribution Plot')\n",
    "\n",
    "\n",
    "ggplot(data = weightAggregated) +\n",
    "  geom_col() +\n",
    "  aes(y= BodyWeightKg, x=Id) +\n",
    "  labs(y = 'Weight (Kg)',\n",
    "       x= 'Participants',\n",
    "       title = 'Weight Distribution Plot')\n",
    "\n",
    "ggplot(data = weightAggregated) +\n",
    "  geom_col() +\n",
    "  aes(y= BMIv, x=Id) +\n",
    "  labs(x = 'Participants',\n",
    "       y='Body Mass Index' ,\n",
    "       title = 'Weight Distribution Plot')\n",
    "\n"
   ]
  },
  {
   "cell_type": "markdown",
   "id": "0f048c66",
   "metadata": {
    "papermill": {
     "duration": null,
     "end_time": null,
     "exception": null,
     "start_time": null,
     "status": "completed"
    },
    "tags": []
   },
   "source": [
    "These show a 50th percentile of participants weighing about 62.50Kg.  \n",
    "\n",
    "Of the 8 participants that captured their body weights, \n",
    "\n",
    "3 had Body Mass Index values (BMI) between 18.9 and 24.9 (Normal weight); \n",
    "\n",
    "\n",
    "4 participants between 25 and 29.9 (Overweight);   \n",
    "\n",
    "while 1 participant's was above 30 (Obese).  \n",
    "\n",
    "\n",
    "  \n",
    "  ---------------------------------------------------------------------\n",
    "  \n"
   ]
  },
  {
   "cell_type": "markdown",
   "id": "0a919bc8",
   "metadata": {
    "papermill": {
     "duration": null,
     "end_time": null,
     "exception": null,
     "start_time": null,
     "status": "completed"
    },
    "tags": []
   },
   "source": [
    "### Key Findings and Recommendations\n",
    "\n",
    "The Bellabeat company has built its moat (i.e. competitive advantage) by developing technology and services that focuses on women's health & well-being.\n",
    "It is therefore important that continuous upgrades and expansion be adopted to accommodate and satisfy the needs & applications of the users.  \n",
    "  \n",
    "  \n",
    "Out of 30 users that took part in the survey, just 8 recorded their weights, and 23 recorded sleep events. the poor compliance can be attributed to;\n",
    "\n",
    "1. for weight-records, the manual inputs of weight values. To mitigate this, smart devices should be developed with a means for automated and flexible capture of the body-weights of its users for accurate and consistent data.\n",
    "\n",
    "2. for sleep-events-records; the poor compliance observed can be attributed to the habit of users to charge their devices at bedtime.  \n",
    "Improvements in power \n",
    "and battery specifications can reduce such redundancies (e.g. Fast-Charge feature, longer-lasting batteries, etc.). \n",
    "  \n",
    "Programs targeted at empowering women with current information on Health & Wellness can be run via the Bellabeat App. Also information on how the various Bellabeat \n",
    "products can be utilized to achieve user's health & wellness goals can be provided on the app.  \n",
    "\n",
    "The Leaf product can be packaged to users based on its benefits of effectively tracking health status (e.g heart rate ) \n",
    "and showcasing problem areas where lifestyle modifications and medical interventions might be \n",
    "needed (e.g. where level of activity is poor, presented via low daily steps count).\n",
    "  \n",
    "\n",
    "The Bellabeat membership product can be designed to encourage referrals amongst peers with attractive incentives attached.\n",
    "This product can also be designed to add a feature for \"Closest-Gyms-Near-You\" to encourage \n",
    "its subscribers on the benefits of good physical activity and excersice on general well-being. \n",
    "\n",
    "\n",
    "\n",
    "\n",
    "\n",
    " ----------------------------------------------------------------------\n"
   ]
  },
  {
   "cell_type": "markdown",
   "id": "b5de70d0",
   "metadata": {
    "papermill": {
     "duration": null,
     "end_time": null,
     "exception": null,
     "start_time": null,
     "status": "completed"
    },
    "tags": []
   },
   "source": [
    "#### References\n",
    "\n",
    "1. [FitBit Fitness Tracker Data](https://www.kaggle.com/arashnic/fitbit)\n",
    "\n",
    "2. Furberg, R., Brinton, J., Keating, M., & Ortiz, A. (2016). Crowd-sourced Fitbit datasets 03.12.2016-05.12.2016 [Data set]. Zenodo.    (https://doi.org/10.5281/zenodo.53894)   \n",
    "\n",
    "3. Brinton J, Keating M, Ortiz A, Evenson K, Furberg R\n",
    "Establishing Linkages Between Distributed Survey Responses \n",
    "and Consumer Wearable Device Datasets: A Pilot Protocol\n",
    "JMIR Res Protoc 2017;6(4):e66\n",
    "URL: https://www.researchprotocols.org/2017/4/e66\n",
    "DOI: 10.2196/resprot.6513    \n",
    "\n",
    "4. [sleep standards cdc](https://www.cdc.gov/sleep/about_sleep/how_much_sleep.html)\n",
    "\n"
   ]
  }
 ],
 "metadata": {
  "kernelspec": {
   "display_name": "R",
   "language": "R",
   "name": "ir"
  },
  "language_info": {
   "codemirror_mode": "r",
   "file_extension": ".r",
   "mimetype": "text/x-r-source",
   "name": "R",
   "pygments_lexer": "r",
   "version": "4.0.5"
  },
  "papermill": {
   "default_parameters": {},
   "duration": 85.796214,
   "end_time": "2023-01-24T16:19:07.341883",
   "environment_variables": {},
   "exception": null,
   "input_path": "__notebook__.ipynb",
   "output_path": "__notebook__.ipynb",
   "parameters": {},
   "start_time": "2023-01-24T16:17:41.545669",
   "version": "2.4.0"
  }
 },
 "nbformat": 4,
 "nbformat_minor": 5
}
